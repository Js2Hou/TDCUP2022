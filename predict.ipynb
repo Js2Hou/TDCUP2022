{
 "cells": [
  {
   "cell_type": "markdown",
   "metadata": {},
   "source": [
    "# Predict\n",
    "\n",
    "**调用训练好的模型，预测图片中害虫位置及类别**"
   ]
  },
  {
   "cell_type": "markdown",
   "metadata": {},
   "source": [
    "## 一、测试数据准备"
   ]
  },
  {
   "cell_type": "code",
   "execution_count": 32,
   "metadata": {},
   "outputs": [],
   "source": [
    "import os\n",
    "import numpy as np\n",
    "import matplotlib.pyplot as plt\n",
    "from cv2 import cv2\n",
    "import pandas as pd"
   ]
  },
  {
   "cell_type": "code",
   "execution_count": 33,
   "metadata": {},
   "outputs": [],
   "source": [
    "csv_path = 'datasets/test.csv'\n",
    "imgs_dir = 'datasets/tdcup/images'\n",
    "\n",
    "df = pd.read_csv(csv_path, encoding='gbk')  # (802, 2)\n",
    "\n",
    "imgs_name = df.iloc[:, 1].values  # (802,)"
   ]
  },
  {
   "cell_type": "code",
   "execution_count": 34,
   "metadata": {},
   "outputs": [],
   "source": [
    "# 获取待预测图片\n",
    "\n",
    "# for name_ in imgs_name:\n",
    "#     path_ = os.path.join(imgs_dir, name_)\n",
    "#     print(path_)"
   ]
  },
  {
   "cell_type": "markdown",
   "metadata": {},
   "source": [
    "## 二、加载模型"
   ]
  },
  {
   "cell_type": "raw",
   "metadata": {},
   "source": [
    "from detectron2.engine import DefaultPredictor\n",
    "from detectron2.config import get_cfg\n",
    "from mpvit import add_mpvit_config\n",
    "\n",
    "exp_tag = 'dbg2'\n",
    "\n",
    "cfg = get_cfg()\n",
    "add_mpvit_config(cfg)\n",
    "cfg.merge_from_file('configs/maskrcnn/mask_rcnn_mpvit_small_ms_3x.yaml')\n",
    "cfg.MODEL.ROI_HEADS.SCORE_THRESH_TEST = 0.6\n",
    "# cfg.MODEL.WEIGHTS = 'output/mask_rcnn_mpvit_small_ms_3x/dbg0/model_final.pth'\n",
    "cfg.MODEL.WEIGHTS = os.path.join('output/mask_rcnn_mpvit_small_ms_3x', exp_tag, 'model_final.pth')\n",
    "cfg.freeze()\n"
   ]
  },
  {
   "cell_type": "raw",
   "metadata": {},
   "source": [
    "from detectron2.engine import DefaultPredictor\n",
    "from detectron2.config import get_cfg\n",
    "from mpvit import add_mpvit_config\n",
    "\n",
    "exp_tag = 'exp0'\n",
    "\n",
    "cfg = get_cfg()\n",
    "add_mpvit_config(cfg)\n",
    "cfg.merge_from_file('configs/maskrcnn/mask_rcnn_mpvit_base_ms_3x.yaml')\n",
    "cfg.MODEL.ROI_HEADS.SCORE_THRESH_TEST = 0.35\n",
    "# cfg.MODEL.WEIGHTS = 'output/mask_rcnn_mpvit_small_ms_3x/dbg0/model_final.pth'\n",
    "cfg.MODEL.WEIGHTS = os.path.join('output/mask_rcnn_mpvit_base_ms_3x', exp_tag, 'model_final.pth')\n",
    "cfg.freeze()\n"
   ]
  },
  {
   "cell_type": "code",
   "execution_count": 35,
   "metadata": {},
   "outputs": [],
   "source": [
    "from detectron2.engine import DefaultPredictor\n",
    "from detectron2.config import get_cfg\n",
    "from mpvit import add_mpvit_config\n",
    "\n",
    "exp_tag = 'base_thred60_data_fixed'\n",
    "\n",
    "cfg = get_cfg()\n",
    "add_mpvit_config(cfg)\n",
    "cfg.merge_from_file('configs/maskrcnn/mask_rcnn_mpvit_base_ms_3x.yaml')\n",
    "cfg.MODEL.ROI_HEADS.SCORE_THRESH_TEST = 0.6\n",
    "cfg.MODEL.ROI_HEADS.NUM_CLASSES = 28\n",
    "cfg.MODEL.WEIGHTS = 'output/mask_rcnn_mpvit_base_ms_3x/exp2/model_0019999.pth'\n",
    "# cfg.MODEL.WEIGHTS = os.path.join('output/mask_rcnn_mpvit_base_ms_3x', exp_tag, 'model_final.pth')\n",
    "cfg.freeze()\n"
   ]
  },
  {
   "cell_type": "code",
   "execution_count": 36,
   "metadata": {},
   "outputs": [
    {
     "name": "stderr",
     "output_type": "stream",
     "text": [
      "\n",
      "Category ids in annotations are not in [1, #categories]! We'll apply a mapping for you.\n",
      "\n"
     ]
    },
    {
     "name": "stdout",
     "output_type": "stream",
     "text": [
      "['8', '222', '280']\n"
     ]
    }
   ],
   "source": [
    "from detectron2.data import MetadataCatalog, DatasetCatalog\n",
    "\n",
    "\n",
    "# 获取数据集元数据\n",
    "pest_metadata = MetadataCatalog.get('pest_train')  #  property: ['json_file', 'name', 'set', 'thing_classes', 'thing_dataset_id_to_contiguous_id']\n",
    "pest_train_dataset = DatasetCatalog.get('pest_train')  # list of dict\n",
    "classes_name = pest_metadata.thing_classes\n",
    "\n",
    "print(classes_name)"
   ]
  },
  {
   "cell_type": "code",
   "execution_count": 37,
   "metadata": {},
   "outputs": [],
   "source": [
    "# 创建必要的文件夹\n",
    "\n",
    "os.makedirs(os.path.join('results', exp_tag), exist_ok=True)  # output path\n",
    "os.makedirs(os.path.join('results', exp_tag, 'pred_images'), exist_ok=True)  # output images path"
   ]
  },
  {
   "cell_type": "markdown",
   "metadata": {},
   "source": [
    "## 二、预测"
   ]
  },
  {
   "cell_type": "raw",
   "metadata": {},
   "source": [
    "# 导入预训练好的的二分类模型，判断图片是否包含目标\n",
    "\n",
    "import joblib\n",
    "\n",
    "pipeline = joblib.load('/projects/TDCUP2022/classification/pipeline_size_dim/pipeline.pkl')\n",
    "\n",
    "pipeline_is = (400, 600)"
   ]
  },
  {
   "cell_type": "code",
   "execution_count": 38,
   "metadata": {},
   "outputs": [],
   "source": [
    "# cnt = 1\n",
    "\n",
    "# for name_ in imgs_name:\n",
    "#     path_ = os.path.join(imgs_dir, name_)\n",
    "\n",
    "#     img = plt.imread(path_)\n",
    "#     # plt.imshow(img)\n",
    "#     if not img.shape:\n",
    "#         continue\n",
    "\n",
    "#     img_ = cv2.resize(img, pipeline_is)\n",
    "#     flag = pipeline.predict(img_.flatten().reshape(1, -1))[0]\n",
    "#     if flag:\n",
    "#         cnt += 1\n",
    "\n",
    "\n",
    "# print(f'{cnt} images contain objects, all {len(imgs_name)} images')\n",
    "# 180 images contain objects, all 802 images"
   ]
  },
  {
   "cell_type": "code",
   "execution_count": 39,
   "metadata": {},
   "outputs": [],
   "source": [
    "predictor = DefaultPredictor(cfg)"
   ]
  },
  {
   "cell_type": "code",
   "execution_count": 40,
   "metadata": {},
   "outputs": [],
   "source": [
    "# alist = [\"00015.jpg\", \"00021.jpg\", \"00441.jpg\", \"00580.jpg\", \"00842.jpg\",\"00889.jpg\",\"00925.jpg\", \"01300.jpg\", \"01669.jpg\", \"02345.jpg\", \"02358.jpg\", \"02706.jpg\", \"02722.jpg\", \t\"02908.jpg\", \"02991.jpg\", \"02991.jpg\", \"03151.jpg\", \"03151.jpg\", \"03339.jpg\", \"03339.jpg\", \"03369.jpg\", \"03369.jpg\", \"03369.jpg\", \"03494.jpg\", \"03563.jpg\"]\n"
   ]
  },
  {
   "cell_type": "code",
   "execution_count": 41,
   "metadata": {},
   "outputs": [],
   "source": [
    "from detectron2.utils.visualizer import Visualizer\n",
    "\n",
    "import shutil\n",
    "import torch\n",
    "\n",
    "result_list = []\n",
    "cnt = 1\n",
    "\n",
    "\n",
    "for name_ in imgs_name:\n",
    "    # if name_ not in alist:\n",
    "    #     continue\n",
    "    path_ = os.path.join(imgs_dir, name_)\n",
    "    img_save_path = os.path.join('results', exp_tag, 'pred_images', name_)\n",
    "\n",
    "    img = plt.imread(path_)\n",
    "    # plt.imshow(img)\n",
    "    if not img.shape:\n",
    "        continue\n",
    "\n",
    "    # todo:\n",
    "    # using classifier determine whether an image includes object or not\n",
    "    # img_ = cv2.resize(img, pipeline_is)\n",
    "    # flag = pipeline.predict(img_.flatten().reshape(1, -1))[0]\n",
    "    # if not flag:\n",
    "    #     # shutil.copy(path_, img_save_path)\n",
    "    #     continue\n",
    "    \n",
    "\n",
    "    output = predictor(img)\n",
    "    instances = output[\"instances\"]\n",
    "\n",
    "    pred_classes = instances.pred_classes\n",
    "    pred_boxes = instances.pred_boxes\n",
    "\n",
    "    # continue when detect nothing\n",
    "    if pred_classes.shape[0] == 0:\n",
    "        continue\n",
    "\n",
    "    # save predicted images\n",
    "    v = Visualizer(img, MetadataCatalog.get(cfg.DATASETS.TRAIN[0]))\n",
    "    out = v.draw_instance_predictions(instances.to(\"cpu\"))\n",
    "    pred_img = out.get_image()\n",
    "    \n",
    "    plt.imsave(img_save_path, pred_img)\n",
    "\n",
    "    # save predicted results to csv file\n",
    "    pred_classes = torch.tensor([int(classes_name[i]) for i in pred_classes], device=pred_classes.device)\n",
    "    for class_, box_ in zip(pred_classes, pred_boxes):\n",
    "        tpx, tpy, brx, bry = box_\n",
    "        mx, my = (tpx + brx) / 2, (tpy + bry) / 2\n",
    "        temp = [cnt, name_, class_.item(), mx.item(), my.item(), tpx.item(), tpy.item(), brx.item(), bry.item()]\n",
    "        result_list.append(temp)\n",
    "        cnt += 1\n",
    "    "
   ]
  },
  {
   "cell_type": "markdown",
   "metadata": {},
   "source": [
    "## 三、保存结果"
   ]
  },
  {
   "cell_type": "code",
   "execution_count": 42,
   "metadata": {},
   "outputs": [],
   "source": [
    "# save_path = 'results/res2.csv'\n",
    "save_path = os.path.join('results', exp_tag, 'res2.csv')\n",
    "\n",
    "df = pd.DataFrame(np.array(result_list))\n",
    "\n",
    "header = ['序号','文件名','虫子编号','中心点x坐标','中心点y坐标','左上角x坐标','左上角y坐标','右下角x坐标','右下角y坐标']\n",
    "\n",
    "df.to_csv(save_path, header=header,\n",
    "                        index=None, encoding='gbk')"
   ]
  }
 ],
 "metadata": {
  "interpreter": {
   "hash": "68c142f98e648b97731bcd2199f5f976913ca23975ebb19d28799c99c09961f5"
  },
  "kernelspec": {
   "display_name": "Python 3.8.8 ('detectron2')",
   "language": "python",
   "name": "python3"
  },
  "language_info": {
   "codemirror_mode": {
    "name": "ipython",
    "version": 3
   },
   "file_extension": ".py",
   "mimetype": "text/x-python",
   "name": "python",
   "nbconvert_exporter": "python",
   "pygments_lexer": "ipython3",
   "version": "3.8.8"
  },
  "orig_nbformat": 4
 },
 "nbformat": 4,
 "nbformat_minor": 2
}
